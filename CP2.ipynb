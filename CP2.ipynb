{
 "cells": [
  {
   "cell_type": "code",
   "execution_count": 2,
   "id": "81e55e8d",
   "metadata": {},
   "outputs": [
    {
     "name": "stdout",
     "output_type": "stream",
     "text": [
      "[2002, 2009, 2016, 2023, 2037, 2044, 2051, 2058, 2072, 2079, 2086, 2093, 2107, 2114, 2121, 2128, 2142, 2149, 2156, 2163, 2177, 2184, 2191, 2198, 2212, 2219, 2226, 2233, 2247, 2254, 2261, 2268, 2282, 2289, 2296, 2303, 2317, 2324, 2331, 2338, 2352, 2359, 2366, 2373, 2387, 2394, 2401, 2408, 2422, 2429, 2436, 2443, 2457, 2464, 2471, 2478, 2492, 2499, 2506, 2513, 2527, 2534, 2541, 2548, 2562, 2569, 2576, 2583, 2597, 2604, 2611, 2618, 2632, 2639, 2646, 2653, 2667, 2674, 2681, 2688, 2702, 2709, 2716, 2723, 2737, 2744, 2751, 2758, 2772, 2779, 2786, 2793, 2807, 2814, 2821, 2828, 2842, 2849, 2856, 2863, 2877, 2884, 2891, 2898, 2912, 2919, 2926, 2933, 2947, 2954, 2961, 2968, 2982, 2989, 2996, 3003, 3017, 3024, 3031, 3038, 3052, 3059, 3066, 3073, 3087, 3094, 3101, 3108, 3122, 3129, 3136, 3143, 3157, 3164, 3171, 3178, 3192, 3199]\n"
     ]
    }
   ],
   "source": [
    "#Question1\n",
    "L=[]\n",
    "for i in range(2000,3201):\n",
    "    if (i%7==0) and (i%5!=0):\n",
    "        L.append(i)\n",
    "print(L)"
   ]
  },
  {
   "cell_type": "code",
   "execution_count": 8,
   "id": "ba4e1616",
   "metadata": {},
   "outputs": [
    {
     "data": {
      "text/plain": [
       "120"
      ]
     },
     "execution_count": 8,
     "metadata": {},
     "output_type": "execute_result"
    }
   ],
   "source": [
    "#Question2\n",
    "def fact(n):\n",
    "    if (n==0):\n",
    "        return(1)\n",
    "    else:\n",
    "        return n*fact(n-1)\n",
    "    \n",
    "fact(5)"
   ]
  },
  {
   "cell_type": "code",
   "execution_count": 9,
   "id": "ca25ec49",
   "metadata": {},
   "outputs": [
    {
     "data": {
      "text/plain": [
       "{1: 1, 2: 4, 3: 9, 4: 16, 5: 25, 6: 36, 7: 49, 8: 64}"
      ]
     },
     "execution_count": 9,
     "metadata": {},
     "output_type": "execute_result"
    }
   ],
   "source": [
    "#Question3\n",
    "def fct(n):\n",
    "    return {i:i*i for i in range(1,n+1)}\n",
    "fct(8)\n"
   ]
  },
  {
   "cell_type": "code",
   "execution_count": 15,
   "id": "d2e07018",
   "metadata": {},
   "outputs": [
    {
     "data": {
      "text/plain": [
       "'kitte'"
      ]
     },
     "execution_count": 15,
     "metadata": {},
     "output_type": "execute_result"
    }
   ],
   "source": [
    "#Question4\n",
    "def removal(ch,n):\n",
    "    L=list(ch)\n",
    "    del L[n]\n",
    "    ch=\"\"\n",
    "    for i in range(len(L)):\n",
    "        ch+=L[i]\n",
    "    return(ch)\n",
    "removal(\"kitten\",5)"
   ]
  },
  {
   "cell_type": "code",
   "execution_count": 29,
   "id": "26c7c18b",
   "metadata": {},
   "outputs": [
    {
     "data": {
      "text/plain": [
       "[[1, 2], [3, 4]]"
      ]
     },
     "execution_count": 29,
     "metadata": {},
     "output_type": "execute_result"
    }
   ],
   "source": [
    "#Question5\n",
    "import numpy as np\n",
    "def conversion(array):\n",
    "    return array.tolist()\n",
    "\n",
    "A=np.array([[1,2],[3,4]])\n",
    "conversion(A)"
   ]
  },
  {
   "cell_type": "code",
   "execution_count": 34,
   "id": "f33336eb",
   "metadata": {},
   "outputs": [
    {
     "data": {
      "text/plain": [
       "array([[0.5    , 0.625  , 0.75   , 0.5    ],\n",
       "       [0.625  , 0.78125, 0.9375 , 0.625  ],\n",
       "       [0.75   , 0.9375 , 1.125  , 0.75   ],\n",
       "       [0.5    , 0.625  , 0.75   , 0.5    ]])"
      ]
     },
     "execution_count": 34,
     "metadata": {},
     "output_type": "execute_result"
    }
   ],
   "source": [
    "#Question6\n",
    "def covariance(array1,array2):\n",
    "    return np.cov(array1,array2)\n",
    "\n",
    "array1=np.array([[1,2],[3,4.25]])\n",
    "array2=np.array([[5,6.5],[7,8]])\n",
    "covariance(array1,array2)"
   ]
  },
  {
   "cell_type": "code",
   "execution_count": 47,
   "id": "3967fb2e",
   "metadata": {},
   "outputs": [
    {
     "data": {
      "text/plain": [
       "array([18., 22., 24.])"
      ]
     },
     "execution_count": 47,
     "metadata": {},
     "output_type": "execute_result"
    }
   ],
   "source": [
    "#Question7\n",
    "import numpy as np\n",
    "import math as m\n",
    "def calcul(C,H,D):\n",
    "    liste=D.split(',')\n",
    "    R=[]\n",
    "    for x in liste:\n",
    "        x=float(x)\n",
    "        R.append(m.sqrt((2*C*x)/H))\n",
    "    return np.round(R)\n",
    "                 \n",
    "C=50\n",
    "H=30\n",
    "D='100,150,180'\n",
    "calcul(C,H,D)"
   ]
  },
  {
   "cell_type": "code",
   "execution_count": null,
   "id": "0229764e",
   "metadata": {},
   "outputs": [],
   "source": []
  }
 ],
 "metadata": {
  "kernelspec": {
   "display_name": "Python 3 (ipykernel)",
   "language": "python",
   "name": "python3"
  },
  "language_info": {
   "codemirror_mode": {
    "name": "ipython",
    "version": 3
   },
   "file_extension": ".py",
   "mimetype": "text/x-python",
   "name": "python",
   "nbconvert_exporter": "python",
   "pygments_lexer": "ipython3",
   "version": "3.9.7"
  }
 },
 "nbformat": 4,
 "nbformat_minor": 5
}
